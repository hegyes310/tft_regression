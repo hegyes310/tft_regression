{
 "cells": [
  {
   "cell_type": "code",
   "execution_count": 4,
   "id": "4a082ef5",
   "metadata": {},
   "outputs": [],
   "source": [
    "import gradio as gr\n",
    "import pickle\n",
    "import numpy as np"
   ]
  },
  {
   "cell_type": "code",
   "execution_count": 8,
   "id": "13dc08e3",
   "metadata": {
    "scrolled": false
   },
   "outputs": [
    {
     "name": "stdout",
     "output_type": "stream",
     "text": [
      "Running on local URL:  http://127.0.0.1:7861\n",
      "\n",
      "To create a public link, set `share=True` in `launch()`.\n"
     ]
    },
    {
     "data": {
      "text/html": [
       "<div><iframe src=\"http://127.0.0.1:7861/\" width=\"100%\" height=\"500\" allow=\"autoplay; camera; microphone; clipboard-read; clipboard-write;\" frameborder=\"0\" allowfullscreen></iframe></div>"
      ],
      "text/plain": [
       "<IPython.core.display.HTML object>"
      ]
     },
     "metadata": {},
     "output_type": "display_data"
    },
    {
     "data": {
      "text/plain": []
     },
     "execution_count": 8,
     "metadata": {},
     "output_type": "execute_result"
    },
    {
     "name": "stderr",
     "output_type": "stream",
     "text": [
      "C:\\Users\\hegyes\\AppData\\Local\\Programs\\Python\\Python39\\lib\\site-packages\\sklearn\\base.py:439: UserWarning: X does not have valid feature names, but KNeighborsRegressor was fitted with feature names\n",
      "  warnings.warn(\n",
      "C:\\Users\\hegyes\\AppData\\Local\\Programs\\Python\\Python39\\lib\\site-packages\\sklearn\\base.py:439: UserWarning: X does not have valid feature names, but KNeighborsRegressor was fitted with feature names\n",
      "  warnings.warn(\n",
      "C:\\Users\\hegyes\\AppData\\Local\\Programs\\Python\\Python39\\lib\\site-packages\\sklearn\\base.py:439: UserWarning: X does not have valid feature names, but KNeighborsRegressor was fitted with feature names\n",
      "  warnings.warn(\n",
      "C:\\Users\\hegyes\\AppData\\Local\\Programs\\Python\\Python39\\lib\\site-packages\\sklearn\\base.py:439: UserWarning: X does not have valid feature names, but KNeighborsRegressor was fitted with feature names\n",
      "  warnings.warn(\n",
      "C:\\Users\\hegyes\\AppData\\Local\\Programs\\Python\\Python39\\lib\\site-packages\\sklearn\\base.py:439: UserWarning: X does not have valid feature names, but KNeighborsRegressor was fitted with feature names\n",
      "  warnings.warn(\n"
     ]
    }
   ],
   "source": [
    "def make_prediction(placement, LargestTrait, MaxTraitCount, Itemcount, Fivecost, Fourcost, Threecost, Twocost, Onecost):\n",
    "    with open(\"modelforweb.pkl\", \"rb\") as f:\n",
    "        clf  = pickle.load(f)\n",
    "        preds = clf.predict([[placement, LargestTrait, MaxTraitCount, Itemcount, Fivecost, Fourcost, Threecost, Twocost, Onecost]])\n",
    "        pred = np.round(preds)\n",
    "    return pred\n",
    "\n",
    "#Create the input component for Gradio since we are expecting 4 inputs\n",
    "\n",
    "placement_input = gr.Number(label = \"Enter your placement\")\n",
    "LargestTrait_input = gr.Number(label= \"Enter your largest active trait number\")\n",
    "MaxTraitCount_input = gr.Number(label = \"Enter your all active trait sum\")\n",
    "Itemcount_input = gr.Number(label = \"Enter your items number\")\n",
    "Fivecost_input = gr.Number(label = \"Enter your five cost champs number\")\n",
    "Fourcost_input = gr.Number(label= \"Enter your four cost champs number\")\n",
    "Threecost_input = gr.Number(label = \"Enter your three cost champs number\")\n",
    "Twocost_input = gr.Number(label = \"Enter your two cost champs number\")\n",
    "Onecost_input = gr.Number(label = \"Enter your one cost champs number\")\n",
    "# We create the output\n",
    "output = gr.Number(label = \"Predicted level\")\n",
    "\n",
    "\n",
    "app = gr.Interface(fn = make_prediction, inputs=[placement_input, LargestTrait_input, MaxTraitCount_input, Itemcount_input, Fivecost_input, Fourcost_input, Threecost_input, Twocost_input, Onecost_input], outputs=output)\n",
    "app.launch()"
   ]
  },
  {
   "cell_type": "code",
   "execution_count": null,
   "id": "f3fa37c1",
   "metadata": {},
   "outputs": [],
   "source": []
  }
 ],
 "metadata": {
  "kernelspec": {
   "display_name": "Python 3 (ipykernel)",
   "language": "python",
   "name": "python3"
  },
  "language_info": {
   "codemirror_mode": {
    "name": "ipython",
    "version": 3
   },
   "file_extension": ".py",
   "mimetype": "text/x-python",
   "name": "python",
   "nbconvert_exporter": "python",
   "pygments_lexer": "ipython3",
   "version": "3.9.13"
  }
 },
 "nbformat": 4,
 "nbformat_minor": 5
}
